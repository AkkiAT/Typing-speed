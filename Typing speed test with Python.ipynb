{
 "cells": [
  {
   "cell_type": "code",
   "execution_count": 2,
   "metadata": {},
   "outputs": [
    {
     "name": "stdout",
     "output_type": "stream",
     "text": [
      "*****typing speed*****\n",
      "keep learning\n",
      "\n",
      "\n",
      "speed :  1  w/sec\n",
      "error :  9\n"
     ]
    }
   ],
   "source": [
    "#Typing speed test using Python\n",
    "from time import *\n",
    "import random as r\n",
    "def mistake(partest, usertest):\n",
    "    error = 0\n",
    "    for i in range(len(partest)):\n",
    "        try:\n",
    "            if (partest[i] != usertest[i]):\n",
    "                error = error + 1\n",
    "        except :\n",
    "            error = error + 1\n",
    "    return error\n",
    "def speed_time(time_s, time_e, userinput):\n",
    "            time_delay = time_e - time_s\n",
    "            time_R = round(time_delay,2)\n",
    "            speed = len(userinput)/ time_R\n",
    "            return round(speed)\n",
    "    \n",
    "\n",
    "test =[\"Welcome to coding world\", \"keep learning\", \"concentration is important\"]\n",
    "test1 = r.choice(test)\n",
    "print(\"*****typing speed*****\")\n",
    "print(test1)\n",
    "print()\n",
    "print()\n",
    "time_1 = time()\n",
    "testinput = input(\" Enter : \")\n",
    "time_2 = time()\n",
    "\n",
    "print('speed : ', speed_time(time_1, time_2, testinput),\" w/sec\")\n",
    "print(\"error : \", mistake(test1,testinput))\n",
    "\n"
   ]
  }
 ],
 "metadata": {
  "kernelspec": {
   "display_name": "Python 3",
   "language": "python",
   "name": "python3"
  },
  "language_info": {
   "codemirror_mode": {
    "name": "ipython",
    "version": 3
   },
   "file_extension": ".py",
   "mimetype": "text/x-python",
   "name": "python",
   "nbconvert_exporter": "python",
   "pygments_lexer": "ipython3",
   "version": "3.12.2"
  }
 },
 "nbformat": 4,
 "nbformat_minor": 2
}
